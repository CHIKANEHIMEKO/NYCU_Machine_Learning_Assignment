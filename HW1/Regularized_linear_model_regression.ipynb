{
 "cells": [
  {
   "cell_type": "code",
   "execution_count": 11,
   "metadata": {},
   "outputs": [],
   "source": [
    "import numpy as np \n",
    "import pandas as pd\n",
    "import matplotlib.pyplot as plt\n",
    "from scipy import misc"
   ]
  },
  {
   "cell_type": "code",
   "execution_count": 12,
   "metadata": {},
   "outputs": [
    {
     "data": {
      "text/plain": [
       "array([[-5.        , 51.76405235],\n",
       "       [-4.79591837, 45.42306433],\n",
       "       [-4.59183673, 41.2744481 ],\n",
       "       [-3.97959184, 26.6362165 ],\n",
       "       [-3.57142857, 20.25680606],\n",
       "       [-2.95918367, 11.61842924],\n",
       "       [-2.75510204, 10.45052507],\n",
       "       [-1.73469388,  1.84809823],\n",
       "       [-1.32653061, -1.04053496],\n",
       "       [-0.91836735, -4.6146308 ],\n",
       "       [-0.71428571, -1.38719773],\n",
       "       [-0.30612245, -1.9916444 ],\n",
       "       [ 0.10204082, -0.91292461],\n",
       "       [ 0.71428571,  6.63482003],\n",
       "       [ 1.12244898,  9.54686746],\n",
       "       [ 1.73469388, 15.72016147],\n",
       "       [ 1.93877551, 20.62251684],\n",
       "       [ 2.55102041, 33.48059726],\n",
       "       [ 2.95918367, 40.76391966],\n",
       "       [ 3.97959184, 66.89976056],\n",
       "       [ 4.3877551 , 78.44316466],\n",
       "       [ 5.        , 99.78725972]])"
      ]
     },
     "execution_count": 12,
     "metadata": {},
     "output_type": "execute_result"
    }
   ],
   "source": [
    "# import data\n",
    "#array_from_txtfile = np.loadtxt('my_array.txt')\n",
    "\n",
    "data = np.array([(-5.0, 51.76405234596766),\n",
    "                (-4.795918367346939, 45.42306433039972),\n",
    "                (-4.591836734693878, 41.274448104888755),\n",
    "                (-3.979591836734694, 26.636216497466364),\n",
    "                (-3.571428571428571, 20.256806057008426),\n",
    "                (-2.9591836734693877, 11.618429243797276),\n",
    "                (-2.7551020408163263, 10.450525068812203),\n",
    "                (-1.7346938775510203, 1.8480982318414874),\n",
    "                (-1.3265306122448979, -1.0405349639051173),\n",
    "                (-0.9183673469387754, -4.614630798757861),\n",
    "                (-0.7142857142857144, -1.3871977310902517),\n",
    "                (-0.3061224489795915, -1.9916444039966117),\n",
    "                (0.1020408163265305, -0.912924608376358),\n",
    "                (0.7142857142857144, 6.63482003068499),\n",
    "                (1.1224489795918373, 9.546867459016372),\n",
    "                (1.7346938775510203, 15.72016146597016),\n",
    "                (1.9387755102040813, 20.62251683859554),\n",
    "                (2.5510204081632653, 33.48059725819715),\n",
    "                (2.959183673469388, 40.76391965675495),\n",
    "                (3.979591836734695, 66.8997605629381),\n",
    "                (4.387755102040817, 78.44316465660981),\n",
    "                (5.0, 99.78725971978604)], dtype=float)\n",
    "data"
   ]
  },
  {
   "cell_type": "code",
   "execution_count": 13,
   "metadata": {},
   "outputs": [],
   "source": [
    "# calculate design matrix A\n",
    "def matrix(data,n):\n",
    "    x_list = data[:,0]\n",
    "    A = np.zeros((len(x_list) ,n))\n",
    "    for i in range(len(x_list)):\n",
    "        a_list =[]\n",
    "        for j in range(n):\n",
    "             a_list.append(x_list[i]**(n-j-1))\n",
    "        klist = np.array(a_list)\n",
    "        A[i] = A[i] + klist\n",
    "    return A\n",
    "\n",
    "# LU decomposition\n",
    "def lu(A):\n",
    "    #source: https://johnfoster.pge.utexas.edu/numerical-methods-book/LinearAlgebra_LU.html\n",
    "    #Get the number of rows\n",
    "    n = A.shape[0]\n",
    "    U = A.copy()\n",
    "    L = np.eye(n, dtype=np.double)\n",
    "    #Loop over rows\n",
    "    for i in range(n):    \n",
    "        #Eliminate entries below i with row operations \n",
    "        #on U and reverse the row operations to \n",
    "        #manipulate L\n",
    "        factor = U[i+1:, i] / U[i, i]\n",
    "        L[i+1:, i] = factor\n",
    "        U[i+1:] -= factor[:, np.newaxis] * U[i]\n",
    "    return L, U\n",
    "\n",
    "# Inverse Function for L,U\n",
    "def inverse(A):\n",
    "    # Make copies of A & I, AM & IM, to use for row ops\n",
    "    n = len(A)\n",
    "    AM = A\n",
    "    I = np.eye(n)\n",
    "    IM = I\n",
    "    indices = list(range(n)) # to allow flexible row referencing ***\n",
    "    for fd in range(n): # fd stands for focus diagonal\n",
    "        fdScaler = 1.0 / AM[fd][fd]\n",
    "        # FIRST: scale fd row with fd inverse. \n",
    "        for j in range(n): # Use j to indicate column looping.\n",
    "            AM[fd][j] *= fdScaler\n",
    "            IM[fd][j] *= fdScaler\n",
    "            \n",
    "        # SECOND: operate on all rows except fd row as follows:\n",
    "        for i in indices[0:fd] + indices[fd+1:]: \n",
    "            # *** skip row with fd in it.\n",
    "            crScaler = AM[i][fd] # cr stands for \"current row\".\n",
    "            for j in range(n): \n",
    "                # cr - crScaler * fdRow, but one element at a time.\n",
    "                AM[i][j] = AM[i][j] - crScaler * AM[fd][j]\n",
    "                IM[i][j] = IM[i][j] - crScaler * IM[fd][j]\n",
    "    return IM"
   ]
  },
  {
   "cell_type": "code",
   "execution_count": 14,
   "metadata": {},
   "outputs": [],
   "source": [
    "# Calculate the inverse of (ATA+λI) with LU decomposition, (ATA+λI)-1 ATb\n",
    "def LSE( data, n, l):\n",
    "    A = matrix(data,n)\n",
    "    b = data[:,1]\n",
    "    AT = A.transpose()\n",
    "    s = AT.shape[0]\n",
    "    Matrix = np.dot(AT,A) \n",
    "    Matrix += np.eye(s)*l\n",
    "    L, U = lu(Matrix)\n",
    "    L_inv = inverse(L)\n",
    "    U_inv = inverse(U)\n",
    "    Matrix_inv = np.dot(U_inv,L_inv)\n",
    "    first = np.dot(Matrix_inv,AT)\n",
    "    X = np.dot(first, b)\n",
    "    #plot(data,A,X)\n",
    "    #error = sum(abs(np.dot(A,X)-b))\n",
    "    error = np.sum(np.square(np.dot(A,X)-b))\n",
    "    #print(\"LSE:\")\n",
    "    #print_out(X,n)\n",
    "    #print(\"Total error: \",error)\n",
    "    return A, X, error"
   ]
  },
  {
   "cell_type": "code",
   "execution_count": 15,
   "metadata": {},
   "outputs": [],
   "source": [
    "# Newton's method\n",
    "def get_loss_value(A, X, b):\n",
    "    return np.sum(np.square(np.dot(A,X)-b))\n",
    "\n",
    "def NewtonsMethod_calculate(A,b, tolerance=0.000001):\n",
    "    m,n=A.shape\n",
    "    #initial parameters x\n",
    "    x0=np.random.rand(n,1)\n",
    "    while True:\n",
    "        x1 = x0 - inverse(2*A.T@A )@(2*A.T@A@x0-2*A.T@b)\n",
    "        t = abs(np.sum(np.square(x1 - x0))/n)\n",
    "        if t < tolerance:\n",
    "            break\n",
    "        x0 = x1\n",
    "        \n",
    "    error = get_loss_value(A, x0, b)\n",
    "    return x0, error\n"
   ]
  },
  {
   "cell_type": "code",
   "execution_count": 16,
   "metadata": {},
   "outputs": [],
   "source": [
    "# Newton's method main\n",
    "def newton_method(data , n):\n",
    "    A = matrix(data,n)\n",
    "    b = data[:,1]\n",
    "    b= b.reshape(len(b),1)\n",
    "    X0 , error = NewtonsMethod_calculate(A, b)\n",
    "    print(\"Newton's method:\")\n",
    "    X0 = X0.reshape(X0.shape[0],)\n",
    "    #print_out(X0,n)\n",
    "    #print(\"Total error: \",error)\n",
    "    #plot(data,A,X0)\n",
    "    return A, X0, error"
   ]
  },
  {
   "cell_type": "code",
   "execution_count": 17,
   "metadata": {},
   "outputs": [],
   "source": [
    "def print_out(X,n):\n",
    "    lst = []\n",
    "    for i in range(n-1):\n",
    "        lst.append(str(X[i])+'X^'+str(n-i-1))\n",
    "    if X[-1] >0:\n",
    "        lst.append(str(X[-1]))\n",
    "        out_str = \" + \".join([str(_) for _ in  lst])\n",
    "        out = \"Fitting line: \"+ out_str\n",
    "    elif X[-1] <0:\n",
    "        out_str = \" + \".join([str(_) for _ in  lst])\n",
    "        out = \"Fitting line: \"+  out_str +' ' +str(X[-1])\n",
    "    else:\n",
    "        out_str = \" + \".join([str(_) for _ in  lst])\n",
    "        out = \"Fitting line: \"+ out_str\n",
    "    print(out)\n"
   ]
  },
  {
   "cell_type": "code",
   "execution_count": 18,
   "metadata": {},
   "outputs": [],
   "source": [
    "# Main function\n",
    "#array_from_txtfile = np.loadtxt('my_array.txt')\n",
    "\n",
    "def main_function(data, n, l):\n",
    "    \n",
    "    A_lse, X0_lse, error_lse = LSE( data, n, l)\n",
    "    \n",
    "    A_new, X0_new, error_new = newton_method(data,n)\n",
    "    fig, ax = plt.subplots(2)\n",
    "    x_train, y_train = data[:,0], data[:,1]\n",
    "    out1 = np.dot(A_lse, X0_lse)\n",
    "    ax[0].plot(x_train, y_train, '.')\n",
    "    ax[0].plot(x_train, out1 , 'r-')\n",
    "    out2 = np.dot(A_new,X0_new)\n",
    "    ax[1].plot(x_train, y_train, '.')\n",
    "    ax[1].plot(x_train, out2 , 'r-')\n",
    "    \n",
    "    \n",
    "    print(\"LSE:\")\n",
    "    print_out(X0_lse,n)\n",
    "    print(\"Total error: \",error_lse)\n",
    "    \n",
    "    \n",
    "    print(\"Newton's method:\")\n",
    "    print_out(X0_new,n)\n",
    "    print(\"Total error: \",error_new)\n"
   ]
  },
  {
   "cell_type": "code",
   "execution_count": 19,
   "metadata": {},
   "outputs": [
    {
     "name": "stdout",
     "output_type": "stream",
     "text": [
      "Newton's method:\n",
      "LSE:\n",
      "Fitting line: 3.3296134007540408X^1 + 23.936171703191384\n",
      "Total error:  14948.665201244217\n",
      "Newton's method:\n",
      "Fitting line: 3.511767478424024X^1 + 27.26778475647258\n",
      "Total error:  14707.607506994382\n"
     ]
    },
    {
     "data": {
      "image/png": "[encoded data removed]",
      "text/plain": [
       "<Figure size 432x288 with 2 Axes>"
      ]
     },
     "metadata": {
      "needs_background": "light"
     },
     "output_type": "display_data"
    }
   ],
   "source": [
    "main_function(data, 2, 3)"
   ]
  },
  {
   "cell_type": "code",
   "execution_count": 22,
   "metadata": {},
   "outputs": [
    {
     "name": "stdout",
     "output_type": "stream",
     "text": [
      "Newton's method:\n",
      "LSE:\n",
      "Fitting line: 0.7269544088048294X^2 + 0.060370119695057414X^1 + 0.042238388942893716\n",
      "Total error:  19466.98618558874\n",
      "Newton's method:\n",
      "Fitting line: 3.015697727502105X^2 + 4.879376775325803X^1 -0.20824982979606588\n",
      "Total error:  25.427826062945385\n"
     ]
    },
    {
     "data": {
      "image/png": "[encoded data removed]",
      "text/plain": [
       "<Figure size 432x288 with 2 Axes>"
      ]
     },
     "metadata": {
      "needs_background": "light"
     },
     "output_type": "display_data"
    }
   ],
   "source": [
    "main_function(data, 3, 10000)"
   ]
  },
  {
   "cell_type": "code",
   "execution_count": null,
   "metadata": {},
   "outputs": [],
   "source": []
  }
 ],
 "metadata": {
  "kernelspec": {
   "display_name": "Python 3",
   "language": "python",
   "name": "python3"
  },
  "language_info": {
   "codemirror_mode": {
    "name": "ipython",
    "version": 3
   },
   "file_extension": ".py",
   "mimetype": "text/x-python",
   "name": "python",
   "nbconvert_exporter": "python",
   "pygments_lexer": "ipython3",
   "version": "3.7.4"
  }
 },
 "nbformat": 4,
 "nbformat_minor": 2
}
