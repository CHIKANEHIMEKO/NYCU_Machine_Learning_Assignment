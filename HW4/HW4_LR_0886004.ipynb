{
 "cells": [
  {
   "cell_type": "code",
   "execution_count": 8,
   "metadata": {},
   "outputs": [],
   "source": [
    "import math\n",
    "import random\n",
    "import numpy as np\n",
    "import matplotlib.pyplot as plt"
   ]
  },
  {
   "cell_type": "markdown",
   "metadata": {},
   "source": [
    "# Logistic regression"
   ]
  },
  {
   "cell_type": "code",
   "execution_count": 9,
   "metadata": {},
   "outputs": [],
   "source": [
    "# generate data\n",
    "\n",
    "def uni_gaussian(m, s):\n",
    "    U = np.random.uniform(low=0.0, high=1.0)\n",
    "    V = np.random.uniform(low=0.0, high=1.0)\n",
    "    Z = math.sqrt(-2*math.log(U))*math.cos(2*math.pi*V)\n",
    "    return m+Z*s**(0.5)\n",
    "\n",
    "\n",
    "def generate_data(N, mx, vx, my, vy):\n",
    "    D = np.zeros((N,2))\n",
    "    \n",
    "    for i in range(N):\n",
    "        D[i,0] = uni_gaussian(mx,vx)\n",
    "        D[i,1] = uni_gaussian(my,vy)\n",
    "    return D"
   ]
  },
  {
   "cell_type": "code",
   "execution_count": 10,
   "metadata": {},
   "outputs": [],
   "source": [
    "C0 = generate_data(5, 1,2,1,2)\n",
    "C1 = generate_data(5, 1,2,1,2)"
   ]
  },
  {
   "cell_type": "code",
   "execution_count": 11,
   "metadata": {},
   "outputs": [
    {
     "data": {
      "text/plain": [
       "array([[ 0.73886381,  1.84462476],\n",
       "       [ 0.71853279,  0.99184138],\n",
       "       [-0.11667058,  1.02181984],\n",
       "       [ 1.16285669,  1.60806788],\n",
       "       [ 2.24959967,  3.35458214]])"
      ]
     },
     "execution_count": 11,
     "metadata": {},
     "output_type": "execute_result"
    }
   ],
   "source": [
    "C0"
   ]
  },
  {
   "cell_type": "code",
   "execution_count": 12,
   "metadata": {
    "scrolled": true
   },
   "outputs": [
    {
     "data": {
      "text/plain": [
       "array([[ 1.78420643,  0.33404073],\n",
       "       [ 1.89050106, -0.58235071],\n",
       "       [ 0.89106122,  1.0110914 ],\n",
       "       [-0.22186592,  0.26405164],\n",
       "       [-0.40439384,  0.65855636]])"
      ]
     },
     "execution_count": 12,
     "metadata": {},
     "output_type": "execute_result"
    }
   ],
   "source": [
    "C1"
   ]
  },
  {
   "cell_type": "code",
   "execution_count": 13,
   "metadata": {},
   "outputs": [],
   "source": [
    "# confusion matrix\n",
    "def confusion_matrix(A,b,predict):\n",
    "    '''\n",
    "    TP  FN \n",
    "    FP  TN \n",
    "    A: (2N,3) shape matrix\n",
    "    b: (2N,1) shape matrix\n",
    "    predict: (2N,1) shape matrix\n",
    "    return: (confusion_matix, points to be class0, points to be class1)\n",
    "    class 1 = positive\n",
    "    class 0 = negative\n",
    "    '''\n",
    "    ans_pair = np.hstack((b,predict))\n",
    "    TP=FP=FN=TN=0\n",
    "    for pair in ans_pair:\n",
    "        if pair[0]==pair[1]==1:\n",
    "            TP+=1\n",
    "        elif pair[0]==pair[1]==0:\n",
    "            TN+=1\n",
    "        elif pair[0]==1 and pair[1]==0:\n",
    "            FN+=1            \n",
    "        else:\n",
    "            FP+=1\n",
    "    c_matrix = np.zeros((2,2))\n",
    "    c_matrix[0,0]=TP\n",
    "    c_matrix[0,1]=FN\n",
    "    c_matrix[1,0]=FP\n",
    "    c_matrix[1,1]=TN\n",
    "\n",
    "    \n",
    "    return c_matrix\n",
    "\n",
    "def print_confusion(matrix):    \n",
    "    #class 1 = cluster 1 \n",
    "    #class 0 = cluster 2\n",
    "    print('Confusion Matrix:')\n",
    "    print('               Predict cluster 1  Predict cluster 2')\n",
    "    print('Is cluster 1        {:.0f}               {:.0f}       '.format(matrix[0,0],matrix[0,1]))\n",
    "    print('Is cluster 2        {:.0f}               {:.0f}       '.format(matrix[1,0],matrix[1,1]))\n",
    "    print()\n",
    "    print('Sensitivity (Successfully predict cluster 1): {}'.format(matrix[0,0]/(matrix[0,0]+matrix[0,1])))\n",
    "    print('Specificity (Successfully predict cluster 2): {}'.format(matrix[1,1]/(matrix[1,0]+matrix[1,1])))"
   ]
  },
  {
   "cell_type": "code",
   "execution_count": 14,
   "metadata": {},
   "outputs": [],
   "source": [
    "# utility\n",
    "\n",
    "def get_A(d0,d1):\n",
    "    A = np.ones((2 * len(d0), 3))\n",
    "    A[:, 1:] = np.vstack((d0, d1))\n",
    "    return A\n",
    "'''\n",
    "A = [[1,d0_x,d0_y],\n",
    "     [1,d1_x,d0_y]]\n",
    "上下疊一起\n",
    "'''\n",
    "\n",
    "def get_truth(N):\n",
    "    b = np.zeros((2 * N, 1))\n",
    "    b[N:] = np.ones((N, 1))\n",
    "    return b\n",
    "\n",
    "def get_predict_class(A, b_pre):\n",
    "    C0_predict=[]\n",
    "    C1_predict=[]\n",
    "    for i in range(len(A)):\n",
    "        if b_pre[i]==0:\n",
    "            C0_predict.append(A[i,1:])\n",
    "        else:\n",
    "            C1_predict.append(A[i,1:])\n",
    "    return np.array(C0_predict), np.array(C1_predict)"
   ]
  },
  {
   "cell_type": "code",
   "execution_count": 15,
   "metadata": {},
   "outputs": [
    {
     "data": {
      "text/plain": [
       "10"
      ]
     },
     "execution_count": 15,
     "metadata": {},
     "output_type": "execute_result"
    }
   ],
   "source": [
    "A= get_A(C0,C1)\n",
    "len(A)"
   ]
  },
  {
   "cell_type": "code",
   "execution_count": 16,
   "metadata": {},
   "outputs": [
    {
     "data": {
      "text/plain": [
       "array([ 1.        , -0.11667058,  1.02181984])"
      ]
     },
     "execution_count": 16,
     "metadata": {},
     "output_type": "execute_result"
    }
   ],
   "source": [
    "A[2]"
   ]
  },
  {
   "cell_type": "markdown",
   "metadata": {},
   "source": [
    "Gradient descent of logistic regression\n",
    "\n",
    "https://dphi.tech/blog/tutorial-on-logistic-regression-using-python/"
   ]
  },
  {
   "cell_type": "code",
   "execution_count": 17,
   "metadata": {},
   "outputs": [],
   "source": [
    "# Gradient descent\n",
    "\n",
    "def gradient(A, b, lr=0.05, w=np.random.rand(3,1), eps = 1e-3):\n",
    "    g = 10\n",
    "    iteration = 0\n",
    "    while np.sqrt(np.sum(g**2))>eps and iteration <20000: # >eps?\n",
    "        g = A.T@(b - 1/(1+np.exp(-A@w)))\n",
    "        w = w + lr*g\n",
    "        iteration += 1\n",
    "    return w\n",
    "    \n",
    "    '''\n",
    "    return weights\n",
    "    '''"
   ]
  },
  {
   "cell_type": "markdown",
   "metadata": {},
   "source": [
    "Newton & Hessian\n",
    "\n",
    "https://thelaziestprogrammer.com/sharrington/math-of-machine-learning/solving-logreg-newtons-method"
   ]
  },
  {
   "cell_type": "code",
   "execution_count": 18,
   "metadata": {},
   "outputs": [],
   "source": [
    "# Newton's\n",
    "\n",
    "def newtons(A,b,lr=0.05, w=np.random.rand(3,1), eps = 1e-3):\n",
    "    N = len(A)\n",
    "    # desing matrix\n",
    "    D = np.zeros((N,N))\n",
    "    for i in range(N):\n",
    "        D[i,i]= np.exp(-A[i]@w)/(1+np.exp(-A[i]@w))**2\n",
    "    H=A.T@D@A\n",
    "    try:\n",
    "        inv_H = np.linalg.inv(H)\n",
    "    except np.linalg.LinAlgError as err:\n",
    "        print(str(err))\n",
    "        print('The Hessian matrix is not inversible!')\n",
    "    g = 10\n",
    "    iteration = 0\n",
    "    while np.sqrt(np.sum(g**2))>eps and iteration <20000 : # >eps?\n",
    "        g = inv_H@A.T@(b - 1/(1+np.exp(-A@w)))\n",
    "        w = w + lr*g\n",
    "        iteration += 1\n",
    "    return w"
   ]
  },
  {
   "cell_type": "code",
   "execution_count": 19,
   "metadata": {},
   "outputs": [],
   "source": [
    "# predict\n",
    "\n",
    "def predict(A,w):\n",
    "    '''\n",
    "    predict whether is class0 or class1\n",
    "    class 1 = cluster 1 \n",
    "    class 0 = cluster 2\n",
    "    A: (2N,3), w: (3,1) \n",
    "    return (2N,1) as prediction\n",
    "    '''\n",
    "    N=len(A)\n",
    "    predict=np.empty((N,1))\n",
    "    for i in range(N):\n",
    "        if A[i]@w <0:\n",
    "            predict[i]=0\n",
    "        else:\n",
    "            predict[i]=1\n",
    "    return predict\n"
   ]
  },
  {
   "cell_type": "code",
   "execution_count": 20,
   "metadata": {},
   "outputs": [],
   "source": [
    "# plot\n",
    "def data_class(A,predict):\n",
    "    for i in range(len(A)):\n",
    "        class_0=[]\n",
    "        class_1=[]\n",
    "        if predict[i]==0:\n",
    "            class_0.append(A[i,1:])\n",
    "        else:\n",
    "            class_1.append(A[i,1:])\n",
    "    \n",
    "    return np.array(class_0),np.array(class_1)\n",
    "\n",
    "def plot(C0,C1,title):\n",
    "    plt.figure()\n",
    "    plt.plot(C0[:,0],C0[:,1],'ro')\n",
    "    plt.plot(C1[:,0],C1[:,1],'bo')\n",
    "    plt.title(title)\n",
    "    plt.show()\n",
    "\n",
    "# print weight\n",
    "\n",
    "def print_weight(w):\n",
    "    print('w:')\n",
    "    print(w[0])\n",
    "    print(w[1])\n",
    "    print(w[2])\n",
    "\n"
   ]
  },
  {
   "cell_type": "code",
   "execution_count": 22,
   "metadata": {},
   "outputs": [],
   "source": [
    "# main\n",
    "\n",
    "mx1, my1, mx2, my2, vx1, vy1, vx2, vy2 = 1, 1, 10, 10, 2, 2, 2, 2\n",
    "N = 50\n",
    "\n",
    "\n",
    "def logistic_regression(N, mx1, my1, mx2, my2, vx1, vy1, vx2, vy2):\n",
    "    # sampling data\n",
    "    C0 = generate_data(N, mx1, vx1, my1, vy1)\n",
    "    C1 = generate_data(N, mx2, vx2, my2, vy2)\n",
    "\n",
    "    # initailize\n",
    "    A = get_A(C0, C1)\n",
    "    b = get_truth(N)\n",
    "    # plot ground truth\n",
    "    plot(C0, C1, 'Ground truth')\n",
    "\n",
    "    # gradient\n",
    "    w = gradient(A, b, lr=0.05, w=np.random.rand(3, 1), eps=1e-2)\n",
    "    \n",
    "    # print & plot\n",
    "    g_prediction = predict(A,w)\n",
    "    c_matrix = confusion_matrix(A,b,g_prediction)\n",
    "    g_C0, g_C1 = get_predict_class(A, g_prediction)\n",
    "\n",
    "    print('Gradient descent:\\n')\n",
    "    print_weight(w)\n",
    "    print_confusion(c_matrix)\n",
    "    plot(g_C0, g_C1, 'Gradient descent')\n",
    "    \n",
    "\n",
    "    print('\\n----------------------------------------')\n",
    "    \n",
    "    \n",
    "    # Newton's\n",
    "    w = newtons(A,b,lr=0.05, w=np.random.rand(3,1), eps = 1e-2)\n",
    "    \n",
    "    # print & plot\n",
    "    n_prediction = predict(A,w)\n",
    "    c_matrix = confusion_matrix(A,b,n_prediction)\n",
    "    n_C0, n_C1 = get_predict_class(A, n_prediction)\n",
    "    print(\"Newton's method:\\n\")\n",
    "    print_weight(w)\n",
    "    print_confusion(c_matrix)\n",
    "    plot(n_C0, n_C1, \"Newton's method\")\n",
    "    "
   ]
  },
  {
   "cell_type": "code",
   "execution_count": 23,
   "metadata": {},
   "outputs": [
    {
     "data": {
      "image/png": "[encoded data removed]",
      "text/plain": [
       "<Figure size 432x288 with 1 Axes>"
      ]
     },
     "metadata": {
      "needs_background": "light"
     },
     "output_type": "display_data"
    },
    {
     "name": "stdout",
     "output_type": "stream",
     "text": [
      "Gradient descent:\n",
      "\n",
      "w:\n",
      "[-14.34833174]\n",
      "[0.76870897]\n",
      "[2.10707741]\n",
      "Confusion Matrix:\n",
      "               Predict cluster 1  Predict cluster 2\n",
      "Is cluster 1        50               0       \n",
      "Is cluster 2        0               50       \n",
      "\n",
      "Sensitivity (Successfully predict cluster 1): 1.0\n",
      "Specificity (Successfully predict cluster 2): 1.0\n"
     ]
    },
    {
     "data": {
      "image/png": "[encoded data removed]",
      "text/plain": [
       "<Figure size 432x288 with 1 Axes>"
      ]
     },
     "metadata": {
      "needs_background": "light"
     },
     "output_type": "display_data"
    },
    {
     "name": "stdout",
     "output_type": "stream",
     "text": [
      "\n",
      "----------------------------------------\n",
      "Newton's method:\n",
      "\n",
      "w:\n",
      "[-9.71074398]\n",
      "[0.73303078]\n",
      "[1.22387735]\n",
      "Confusion Matrix:\n",
      "               Predict cluster 1  Predict cluster 2\n",
      "Is cluster 1        50               0       \n",
      "Is cluster 2        0               50       \n",
      "\n",
      "Sensitivity (Successfully predict cluster 1): 1.0\n",
      "Specificity (Successfully predict cluster 2): 1.0\n"
     ]
    },
    {
     "data": {
      "image/png": "[encoded data removed]",
      "text/plain": [
       "<Figure size 432x288 with 1 Axes>"
      ]
     },
     "metadata": {
      "needs_background": "light"
     },
     "output_type": "display_data"
    }
   ],
   "source": [
    "logistic_regression(N, mx1, my1, mx2, my2, vx1, vy1, vx2, vy2)"
   ]
  },
  {
   "cell_type": "code",
   "execution_count": 100,
   "metadata": {},
   "outputs": [
    {
     "data": {
      "image/png": "[encoded data removed]",
      "text/plain": [
       "<Figure size 432x288 with 1 Axes>"
      ]
     },
     "metadata": {
      "needs_background": "light"
     },
     "output_type": "display_data"
    },
    {
     "name": "stdout",
     "output_type": "stream",
     "text": [
      "Gradient descent:\n",
      "\n",
      "w:\n",
      "[-4.22120643]\n",
      "[2.90758214]\n",
      "[3.03709656]\n",
      "Confusion Matrix:\n",
      "               Predict cluster 1  Predict cluster 2\n",
      "Is cluster 1        47               3       \n",
      "Is cluster 2        25               25       \n",
      "\n",
      "Sensitivity (Successfully predict cluster 1): 0.94\n",
      "Specificity (Successfully predict cluster 2): 0.5\n"
     ]
    },
    {
     "data": {
      "image/png": "[encoded data removed]",
      "text/plain": [
       "<Figure size 432x288 with 1 Axes>"
      ]
     },
     "metadata": {
      "needs_background": "light"
     },
     "output_type": "display_data"
    },
    {
     "name": "stdout",
     "output_type": "stream",
     "text": [
      "\n",
      "----------------------------------------\n",
      "Newton's method:\n",
      "\n",
      "w:\n",
      "[-2.9415245]\n",
      "[0.84802854]\n",
      "[0.94243439]\n",
      "Confusion Matrix:\n",
      "               Predict cluster 1  Predict cluster 2\n",
      "Is cluster 1        41               9       \n",
      "Is cluster 2        8               42       \n",
      "\n",
      "Sensitivity (Successfully predict cluster 1): 0.82\n",
      "Specificity (Successfully predict cluster 2): 0.84\n"
     ]
    },
    {
     "data": {
      "image/png": "[encoded data removed]",
      "text/plain": [
       "<Figure size 432x288 with 1 Axes>"
      ]
     },
     "metadata": {
      "needs_background": "light"
     },
     "output_type": "display_data"
    }
   ],
   "source": [
    "mx1, my1, mx2, my2, vx1, vy1, vx2, vy2 = 1, 1, 3, 3, 2, 2, 4, 4\n",
    "N = 50\n",
    "\n",
    "logistic_regression(N, mx1, my1, mx2, my2, vx1, vy1, vx2, vy2)"
   ]
  }
 ],
 "metadata": {
  "kernelspec": {
   "display_name": "Python 3",
   "language": "python",
   "name": "python3"
  },
  "language_info": {
   "codemirror_mode": {
    "name": "ipython",
    "version": 3
   },
   "file_extension": ".py",
   "mimetype": "text/x-python",
   "name": "python",
   "nbconvert_exporter": "python",
   "pygments_lexer": "ipython3",
   "version": "3.7.4"
  }
 },
 "nbformat": 4,
 "nbformat_minor": 2
}
