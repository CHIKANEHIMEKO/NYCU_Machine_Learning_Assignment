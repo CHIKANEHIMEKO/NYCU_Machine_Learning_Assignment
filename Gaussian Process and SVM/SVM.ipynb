{
 "cells": [
  {
   "cell_type": "markdown",
   "metadata": {},
   "source": [
    "# II. SVM on MNIST dataset"
   ]
  },
  {
   "cell_type": "markdown",
   "metadata": {},
   "source": [
    "Deal with data"
   ]
  },
  {
   "cell_type": "code",
   "execution_count": 1,
   "metadata": {},
   "outputs": [],
   "source": [
    "import numpy as np\n",
    "import csv"
   ]
  },
  {
   "cell_type": "code",
   "execution_count": 2,
   "metadata": {},
   "outputs": [],
   "source": [
    "# load data as array\n",
    "\n",
    "def load_x_file(data):\n",
    "    x_data=[]\n",
    "    with open(data) as cvsfile:\n",
    "        rows=csv.reader(cvsfile)\n",
    "        for row in rows:\n",
    "            x_data.append([float(v) for v in row])\n",
    "    x_data=np.asarray(x_data,dtype='float')\n",
    "    return x_data\n",
    "\n",
    "def load_y_file(data):\n",
    "    y_data=[]\n",
    "    with open(data) as csvfile:\n",
    "        rows=csv.reader(csvfile)\n",
    "        for row in rows:\n",
    "            y_data.append(int(row[0]))\n",
    "    y_data=np.asarray(y_data,dtype=int)\n",
    "    return y_data\n",
    "\n",
    "x_train = load_x_file('X_train.csv')\n",
    "y_train = load_y_file('Y_train.csv')\n",
    "x_test = load_x_file('X_test.csv')\n",
    "y_test = load_y_file('Y_test.csv')"
   ]
  },
  {
   "cell_type": "code",
   "execution_count": 3,
   "metadata": {},
   "outputs": [
    {
     "name": "stdout",
     "output_type": "stream",
     "text": [
      "(5000, 784)\n",
      "(5000,)\n",
      "(2500, 784)\n",
      "(2500,)\n"
     ]
    }
   ],
   "source": [
    "print(x_train.shape)\n",
    "print(y_train.shape)\n",
    "\n",
    "print(x_test.shape)\n",
    "print(y_test.shape)"
   ]
  },
  {
   "cell_type": "markdown",
   "metadata": {},
   "source": [
    "# Part1: Use different kernel functions (linear, polynomial, and RBF kernels) and have comparison between their performance."
   ]
  },
  {
   "cell_type": "markdown",
   "metadata": {},
   "source": [
    "libsvm.svmutil: \n",
    "\n",
    "reference: https://www.csie.ntu.edu.tw/~cjlin/libsvm/"
   ]
  },
  {
   "cell_type": "markdown",
   "metadata": {},
   "source": [
    "t kernel_type : set type of kernel function (default 2)\n",
    "\n",
    "\t0 -- linear: u'*v\n",
    "    \n",
    "\t1 -- polynomial: (gamma*u'*v + coef0)^degree\n",
    "    \n",
    "\t2 -- radial basis function: exp(-gamma*|u-v|^2)\n",
    "    \n",
    "\t3 -- sigmoid: tanh(gamma*u'*v + coef0)"
   ]
  },
  {
   "cell_type": "code",
   "execution_count": 4,
   "metadata": {},
   "outputs": [
    {
     "name": "stdout",
     "output_type": "stream",
     "text": [
      "Linear kernel:\n",
      "Accuracy = 95.08% (2377/2500) (classification)\n",
      "Polynomial kernel:\n",
      "Accuracy = 34.68% (867/2500) (classification)\n",
      "RBF kernel:\n",
      "Accuracy = 95.32% (2383/2500) (classification)\n"
     ]
    }
   ],
   "source": [
    "from libsvm.svmutil import *\n",
    "\n",
    "# linear\n",
    "print('Linear kernel:')\n",
    "options = '-t 0'\n",
    "linear = svm_train(y_train, x_train, options)\n",
    "l_label, l_acc, l_vals = svm_predict(y_test, x_test, linear)\n",
    "#print('The accuracy of linear kernel:', l_acc[0])\n",
    "\n",
    "# polynomial\n",
    "print('Polynomial kernel:')\n",
    "options = '-t 1'\n",
    "poly = svm_train(y_train, x_train, options)\n",
    "p_label, p_acc, p_vals = svm_predict(y_test, x_test, poly)\n",
    "#print('The accuracy of polynomial kernel:', p_acc[0])\n",
    "\n",
    "# RBF\n",
    "print('RBF kernel:')\n",
    "options = '-t 2'\n",
    "rbf = svm_train(y_train, x_train, options)\n",
    "r_label, r_acc, r_vals = svm_predict(y_test, x_test, rbf)\n",
    "#print('The accuracy of RBF kernel:', r_acc[0])"
   ]
  },
  {
   "cell_type": "markdown",
   "metadata": {},
   "source": [
    "# Part2: Grid search"
   ]
  },
  {
   "cell_type": "markdown",
   "metadata": {},
   "source": [
    "cross validation: use -v\n",
    "\n",
    "reference: https://github.com/cjlin1/libsvm/tree/master/python"
   ]
  },
  {
   "cell_type": "code",
   "execution_count": 15,
   "metadata": {},
   "outputs": [],
   "source": [
    "# grid sreach function for rbf\n",
    "\n",
    "def grid_search_rbf(C, gamma, x_train, y_train):\n",
    "    grid = np.zeros((len(C), len(gamma)))\n",
    "    for i in range(len(C)):\n",
    "        for j in range(len(gamma)):\n",
    "            options = '-t 2 -v 3 -c {} -g {}'.format(C[i], gamma[j])\n",
    "            acc = svm_train(y_train, x_train, options)\n",
    "            grid[i, j] = acc\n",
    "    return grid"
   ]
  },
  {
   "cell_type": "code",
   "execution_count": 16,
   "metadata": {},
   "outputs": [],
   "source": [
    "# set C and gamma\n",
    "\n",
    "gamma= C =[0.0001, 0.001, 0.01, 0.1, 1, 10, 100, 1000]"
   ]
  },
  {
   "cell_type": "code",
   "execution_count": 17,
   "metadata": {},
   "outputs": [
    {
     "name": "stdout",
     "output_type": "stream",
     "text": [
      "Cross Validation Accuracy = 79.44%\n",
      "Cross Validation Accuracy = 80.78%\n",
      "Cross Validation Accuracy = 89.82%\n",
      "Cross Validation Accuracy = 49.18%\n",
      "Cross Validation Accuracy = 20.52%\n",
      "Cross Validation Accuracy = 79.08%\n",
      "Cross Validation Accuracy = 35.66%\n",
      "Cross Validation Accuracy = 20%\n",
      "Cross Validation Accuracy = 79.68%\n",
      "Cross Validation Accuracy = 81.02%\n",
      "Cross Validation Accuracy = 89.92%\n",
      "Cross Validation Accuracy = 48.48%\n",
      "Cross Validation Accuracy = 20.52%\n",
      "Cross Validation Accuracy = 78.94%\n",
      "Cross Validation Accuracy = 35.82%\n",
      "Cross Validation Accuracy = 20%\n",
      "Cross Validation Accuracy = 79.46%\n",
      "Cross Validation Accuracy = 81.04%\n",
      "Cross Validation Accuracy = 91.8%\n",
      "Cross Validation Accuracy = 50.44%\n",
      "Cross Validation Accuracy = 20.58%\n",
      "Cross Validation Accuracy = 78.92%\n",
      "Cross Validation Accuracy = 35.86%\n",
      "Cross Validation Accuracy = 20%\n",
      "Cross Validation Accuracy = 79.62%\n",
      "Cross Validation Accuracy = 91.82%\n",
      "Cross Validation Accuracy = 96.16%\n",
      "Cross Validation Accuracy = 53.94%\n",
      "Cross Validation Accuracy = 20.76%\n",
      "Cross Validation Accuracy = 79.08%\n",
      "Cross Validation Accuracy = 35.9%\n",
      "Cross Validation Accuracy = 20%\n",
      "Cross Validation Accuracy = 91.92%\n",
      "Cross Validation Accuracy = 96.14%\n",
      "Cross Validation Accuracy = 97.84%\n",
      "Cross Validation Accuracy = 90.88%\n",
      "Cross Validation Accuracy = 29.98%\n",
      "Cross Validation Accuracy = 40.12%\n",
      "Cross Validation Accuracy = 35.86%\n",
      "Cross Validation Accuracy = 20%\n",
      "Cross Validation Accuracy = 96%\n",
      "Cross Validation Accuracy = 97.2%\n",
      "Cross Validation Accuracy = 98.1%\n",
      "Cross Validation Accuracy = 91.6%\n",
      "Cross Validation Accuracy = 32.8%\n",
      "Cross Validation Accuracy = 33.64%\n",
      "Cross Validation Accuracy = 35.82%\n",
      "Cross Validation Accuracy = 20%\n",
      "Cross Validation Accuracy = 97.08%\n",
      "Cross Validation Accuracy = 97.06%\n",
      "Cross Validation Accuracy = 98.14%\n",
      "Cross Validation Accuracy = 91.52%\n",
      "Cross Validation Accuracy = 31.34%\n",
      "Cross Validation Accuracy = 27.12%\n",
      "Cross Validation Accuracy = 35.94%\n",
      "Cross Validation Accuracy = 20%\n",
      "Cross Validation Accuracy = 96.7%\n",
      "Cross Validation Accuracy = 96.72%\n",
      "Cross Validation Accuracy = 97.98%\n",
      "Cross Validation Accuracy = 91.5%\n",
      "Cross Validation Accuracy = 31.26%\n",
      "Cross Validation Accuracy = 27.1%\n",
      "Cross Validation Accuracy = 36.04%\n",
      "Cross Validation Accuracy = 20%\n"
     ]
    }
   ],
   "source": [
    "# main\n",
    "\n",
    "final_list = grid_search(C, gamma, x_train, y_train)"
   ]
  },
  {
   "cell_type": "code",
   "execution_count": 37,
   "metadata": {},
   "outputs": [],
   "source": [
    "import seaborn as sns\n",
    "import matplotlib.pylab as plt"
   ]
  },
  {
   "cell_type": "code",
   "execution_count": 19,
   "metadata": {},
   "outputs": [
    {
     "data": {
      "image/png": "[encoded data removed]",
      "text/plain": [
       "<Figure size 648x432 with 2 Axes>"
      ]
     },
     "metadata": {
      "needs_background": "light"
     },
     "output_type": "display_data"
    }
   ],
   "source": [
    "# plot the heatmap\n",
    "\n",
    "f, ax = plt.subplots(figsize=(9, 6))\n",
    "fig = sns.heatmap(final_list, annot=True, square=True, ax=ax, fmt =\".2f\" )\n",
    "fig.set_xticklabels(gamma)\n",
    "fig.set_yticklabels(C)\n",
    "bottom, top = fig.get_ylim()\n",
    "fig.set_ylim(bottom + 0.5, top - 0.5)\n",
    "plt.xlabel(\"Gamma Parameter\")\n",
    "plt.ylabel(\"C Parameter\")\n",
    "fig.set_title('Hyperparameters Gridsearch')\n",
    "plt.show()"
   ]
  },
  {
   "cell_type": "markdown",
   "metadata": {},
   "source": [
    "best hyperparamter condition for rbf is: {gamma: 0.01, C: 100}"
   ]
  },
  {
   "cell_type": "code",
   "execution_count": 38,
   "metadata": {},
   "outputs": [],
   "source": [
    "C =[0.0001, 0.001, 0.01, 0.1, 1, 10, 100, 1000]\n",
    "\n",
    "# grid sreach function for linear\n",
    "\n",
    "def grid_search_linear(C ,x_train, y_train):\n",
    "    grid = np.zeros(len(C))\n",
    "    for i in range(len(C)):\n",
    "        options = '-t 0 -v 3 -c {}'.format(C[i])\n",
    "        acc = svm_train(y_train, x_train, options)\n",
    "        grid[i] = acc\n",
    "    return grid\n",
    "\n",
    "# grid sreach function for polynomial\n",
    "\n",
    "def grid_search_polynomial(C,x_train, y_train):\n",
    "    grid = np.zeros(len(C))\n",
    "    for i in range(len(C)):\n",
    "        options = '-t 1 -v 3 -c {}'.format(C[i])\n",
    "        acc = svm_train(y_train, x_train, options)\n",
    "        grid[i] = acc\n",
    "    return grid"
   ]
  },
  {
   "cell_type": "code",
   "execution_count": 39,
   "metadata": {},
   "outputs": [
    {
     "name": "stdout",
     "output_type": "stream",
     "text": [
      "Cross Validation Accuracy = 88.38%\n",
      "Cross Validation Accuracy = 95.38%\n",
      "Cross Validation Accuracy = 96.78%\n",
      "Cross Validation Accuracy = 96.92%\n",
      "Cross Validation Accuracy = 96.3%\n",
      "Cross Validation Accuracy = 96.2%\n",
      "Cross Validation Accuracy = 96.28%\n",
      "Cross Validation Accuracy = 96.12%\n",
      "Cross Validation Accuracy = 28.64%\n",
      "Cross Validation Accuracy = 28.4%\n",
      "Cross Validation Accuracy = 28.52%\n",
      "Cross Validation Accuracy = 28.5%\n",
      "Cross Validation Accuracy = 31.3%\n",
      "Cross Validation Accuracy = 73.66%\n",
      "Cross Validation Accuracy = 92.36%\n",
      "Cross Validation Accuracy = 97.1%\n"
     ]
    }
   ],
   "source": [
    "linear_grid = grid_search_linear(C ,x_train, y_train)\n",
    "poly_grid = grid_search_polynomial(C,x_train, y_train)"
   ]
  },
  {
   "cell_type": "code",
   "execution_count": 40,
   "metadata": {},
   "outputs": [
    {
     "data": {
      "text/plain": [
       "array([88.38, 95.38, 96.78, 96.92, 96.3 , 96.2 , 96.28, 96.12])"
      ]
     },
     "execution_count": 40,
     "metadata": {},
     "output_type": "execute_result"
    }
   ],
   "source": [
    "linear_grid"
   ]
  },
  {
   "cell_type": "code",
   "execution_count": 41,
   "metadata": {},
   "outputs": [
    {
     "data": {
      "text/plain": [
       "array([28.64, 28.4 , 28.52, 28.5 , 31.3 , 73.66, 92.36, 97.1 ])"
      ]
     },
     "execution_count": 41,
     "metadata": {},
     "output_type": "execute_result"
    }
   ],
   "source": [
    "poly_grid"
   ]
  },
  {
   "cell_type": "code",
   "execution_count": 42,
   "metadata": {},
   "outputs": [
    {
     "data": {
      "image/png": "[encoded data removed]",
      "text/plain": [
       "<Figure size 648x432 with 2 Axes>"
      ]
     },
     "metadata": {
      "needs_background": "light"
     },
     "output_type": "display_data"
    }
   ],
   "source": [
    "# plot the heatmap\n",
    "\n",
    "linear_grid = np.reshape(linear_grid,(8,1))\n",
    "\n",
    "f, ax = plt.subplots(figsize=(9, 6))\n",
    "fig = sns.heatmap(linear_grid, annot=True, square=True, fmt =\".2f\")\n",
    "fig.set_yticklabels(C)\n",
    "bottom, top = fig.get_ylim()\n",
    "fig.set_ylim(bottom + 0.5, top - 0.5)\n",
    "\n",
    "plt.show()"
   ]
  },
  {
   "cell_type": "code",
   "execution_count": 43,
   "metadata": {},
   "outputs": [
    {
     "data": {
      "image/png": "[encoded data removed]",
      "text/plain": [
       "<Figure size 648x432 with 2 Axes>"
      ]
     },
     "metadata": {
      "needs_background": "light"
     },
     "output_type": "display_data"
    }
   ],
   "source": [
    "# plot the heatmap\n",
    "poly_grid = np.reshape(poly_grid,(8,1))\n",
    "\n",
    "f, ax = plt.subplots(figsize=(9, 6))\n",
    "fig = sns.heatmap(poly_grid, annot=True, square=True, fmt =\".2f\")\n",
    "fig.set_yticklabels(C)\n",
    "bottom, top = fig.get_ylim()\n",
    "fig.set_ylim(bottom + 0.5, top - 0.5)\n",
    "\n",
    "plt.show()"
   ]
  },
  {
   "cell_type": "markdown",
   "metadata": {},
   "source": [
    "# Part 3: Linear kernel + RBF kernel "
   ]
  },
  {
   "cell_type": "code",
   "execution_count": null,
   "metadata": {},
   "outputs": [],
   "source": []
  },
  {
   "cell_type": "markdown",
   "metadata": {},
   "source": [
    "sqeuclidean：向量u和v之間的平方歐幾裏得距離。"
   ]
  },
  {
   "cell_type": "code",
   "execution_count": 30,
   "metadata": {},
   "outputs": [],
   "source": [
    "# Use scipy.spatial.distance\n",
    "# Set new kernel: liner + rbf kernel\n",
    "\n",
    "from scipy.spatial.distance import cdist\n",
    "\n",
    "def pre_kernel(x_data, x_data2, gamma):\n",
    "    kernel_linear = x_data@x_data2.T\n",
    "    kernel_rbf = np.exp(-gamma*cdist(x_data, x_data2, 'sqeuclidean'))\n",
    "    kernel = kernel_linear + kernel_rbf\n",
    "    kernel = np.hstack((np.arange(1, len(x_data)+1).reshape(-1, 1), kernel))\n",
    "    return kernel"
   ]
  },
  {
   "cell_type": "code",
   "execution_count": 31,
   "metadata": {},
   "outputs": [
    {
     "name": "stdout",
     "output_type": "stream",
     "text": [
      "Accuracy = 95.32% (2383/2500) (classification)\n",
      "linear kernel + RBF kernel accuracy: 95.32%\n"
     ]
    }
   ],
   "source": [
    "# main\n",
    "# Use gamma = 0.01 \n",
    "kernel_train = pre_kernel(x_train, x_train, 0.01)\n",
    "problem = svm_problem(y_train, kernel_train, isKernel=True)\n",
    "options = svm_parameter('-t 4')\n",
    "model = svm_train(problem, options)\n",
    "kernel_test = pre_kernel(x_test, x_train, 0.01)\n",
    "label, acc, vals = svm_predict(y_test, kernel_test, model)\n",
    "print('linear kernel + RBF kernel accuracy: {:.2f}%'.format(acc[0]))"
   ]
  },
  {
   "cell_type": "code",
   "execution_count": null,
   "metadata": {},
   "outputs": [],
   "source": []
  }
 ],
 "metadata": {
  "kernelspec": {
   "display_name": "Python 3",
   "language": "python",
   "name": "python3"
  },
  "language_info": {
   "codemirror_mode": {
    "name": "ipython",
    "version": 3
   },
   "file_extension": ".py",
   "mimetype": "text/x-python",
   "name": "python",
   "nbconvert_exporter": "python",
   "pygments_lexer": "ipython3",
   "version": "3.7.4"
  }
 },
 "nbformat": 4,
 "nbformat_minor": 5
}
